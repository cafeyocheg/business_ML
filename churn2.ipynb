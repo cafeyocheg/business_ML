{
  "cells": [
    {
      "cell_type": "markdown",
      "metadata": {
        "id": "-fUVJGqL99FK"
      },
      "source": [
        "### CHURN 2"
      ]
    },
    {
      "cell_type": "markdown",
      "metadata": {
        "id": "Bw-6e6C099Fy"
      },
      "source": [
        "1. Для данных о клиентах банка построены разные модели: [Logress, XGB, RandomForestClassifier]\n",
        "2. Отобрана лучшую модель по метрикам\n",
        "3. Для отобранной модели сделана оценка экономической эффективности\n",
        "4. Проведен подбор гиперпараметров лучшей модели по итогам"
      ]
    },
    {
      "cell_type": "code",
      "source": [
        "#!pip install xgboost"
      ],
      "metadata": {
        "id": "vHVBgEQsIPb1"
      },
      "execution_count": null,
      "outputs": []
    },
    {
      "cell_type": "code",
      "execution_count": null,
      "metadata": {
        "id": "fO0jlACK99Fi"
      },
      "outputs": [],
      "source": [
        "import pandas as pd\n",
        "import numpy as np\n",
        "\n",
        "from sklearn.pipeline import Pipeline, make_pipeline, FeatureUnion\n",
        "from sklearn.base import BaseEstimator, TransformerMixin\n",
        "from sklearn.model_selection import train_test_split\n",
        "\n",
        "import xgboost as xgb\n",
        "from sklearn.ensemble import RandomForestClassifier\n",
        "from sklearn.linear_model import LogisticRegression"
      ]
    },
    {
      "cell_type": "markdown",
      "source": [
        "### Загрузка и подготовка данных"
      ],
      "metadata": {
        "id": "qcbPc8Cw_Y9u"
      }
    },
    {
      "cell_type": "code",
      "execution_count": null,
      "metadata": {
        "colab": {
          "base_uri": "https://localhost:8080/",
          "height": 207
        },
        "id": "uhPnsyHV99Fj",
        "outputId": "50e83f23-22fb-4b2a-ef37-4c05c4b3ff47"
      },
      "outputs": [
        {
          "output_type": "execute_result",
          "data": {
            "text/plain": [
              "   RowNumber  CustomerId   Surname  CreditScore Geography  Gender  Age  \\\n",
              "0          1    15634602  Hargrave          619    France  Female   42   \n",
              "1          2    15647311      Hill          608     Spain  Female   41   \n",
              "2          3    15619304      Onio          502    France  Female   42   \n",
              "\n",
              "   Tenure    Balance  NumOfProducts  HasCrCard  IsActiveMember  \\\n",
              "0       2       0.00              1          1               1   \n",
              "1       1   83807.86              1          0               1   \n",
              "2       8  159660.80              3          1               0   \n",
              "\n",
              "   EstimatedSalary  Exited  \n",
              "0        101348.88       1  \n",
              "1        112542.58       0  \n",
              "2        113931.57       1  "
            ],
            "text/html": [
              "\n",
              "  <div id=\"df-dccbe306-ff4d-4766-a290-c561bc5659cb\">\n",
              "    <div class=\"colab-df-container\">\n",
              "      <div>\n",
              "<style scoped>\n",
              "    .dataframe tbody tr th:only-of-type {\n",
              "        vertical-align: middle;\n",
              "    }\n",
              "\n",
              "    .dataframe tbody tr th {\n",
              "        vertical-align: top;\n",
              "    }\n",
              "\n",
              "    .dataframe thead th {\n",
              "        text-align: right;\n",
              "    }\n",
              "</style>\n",
              "<table border=\"1\" class=\"dataframe\">\n",
              "  <thead>\n",
              "    <tr style=\"text-align: right;\">\n",
              "      <th></th>\n",
              "      <th>RowNumber</th>\n",
              "      <th>CustomerId</th>\n",
              "      <th>Surname</th>\n",
              "      <th>CreditScore</th>\n",
              "      <th>Geography</th>\n",
              "      <th>Gender</th>\n",
              "      <th>Age</th>\n",
              "      <th>Tenure</th>\n",
              "      <th>Balance</th>\n",
              "      <th>NumOfProducts</th>\n",
              "      <th>HasCrCard</th>\n",
              "      <th>IsActiveMember</th>\n",
              "      <th>EstimatedSalary</th>\n",
              "      <th>Exited</th>\n",
              "    </tr>\n",
              "  </thead>\n",
              "  <tbody>\n",
              "    <tr>\n",
              "      <th>0</th>\n",
              "      <td>1</td>\n",
              "      <td>15634602</td>\n",
              "      <td>Hargrave</td>\n",
              "      <td>619</td>\n",
              "      <td>France</td>\n",
              "      <td>Female</td>\n",
              "      <td>42</td>\n",
              "      <td>2</td>\n",
              "      <td>0.00</td>\n",
              "      <td>1</td>\n",
              "      <td>1</td>\n",
              "      <td>1</td>\n",
              "      <td>101348.88</td>\n",
              "      <td>1</td>\n",
              "    </tr>\n",
              "    <tr>\n",
              "      <th>1</th>\n",
              "      <td>2</td>\n",
              "      <td>15647311</td>\n",
              "      <td>Hill</td>\n",
              "      <td>608</td>\n",
              "      <td>Spain</td>\n",
              "      <td>Female</td>\n",
              "      <td>41</td>\n",
              "      <td>1</td>\n",
              "      <td>83807.86</td>\n",
              "      <td>1</td>\n",
              "      <td>0</td>\n",
              "      <td>1</td>\n",
              "      <td>112542.58</td>\n",
              "      <td>0</td>\n",
              "    </tr>\n",
              "    <tr>\n",
              "      <th>2</th>\n",
              "      <td>3</td>\n",
              "      <td>15619304</td>\n",
              "      <td>Onio</td>\n",
              "      <td>502</td>\n",
              "      <td>France</td>\n",
              "      <td>Female</td>\n",
              "      <td>42</td>\n",
              "      <td>8</td>\n",
              "      <td>159660.80</td>\n",
              "      <td>3</td>\n",
              "      <td>1</td>\n",
              "      <td>0</td>\n",
              "      <td>113931.57</td>\n",
              "      <td>1</td>\n",
              "    </tr>\n",
              "  </tbody>\n",
              "</table>\n",
              "</div>\n",
              "      <button class=\"colab-df-convert\" onclick=\"convertToInteractive('df-dccbe306-ff4d-4766-a290-c561bc5659cb')\"\n",
              "              title=\"Convert this dataframe to an interactive table.\"\n",
              "              style=\"display:none;\">\n",
              "        \n",
              "  <svg xmlns=\"http://www.w3.org/2000/svg\" height=\"24px\"viewBox=\"0 0 24 24\"\n",
              "       width=\"24px\">\n",
              "    <path d=\"M0 0h24v24H0V0z\" fill=\"none\"/>\n",
              "    <path d=\"M18.56 5.44l.94 2.06.94-2.06 2.06-.94-2.06-.94-.94-2.06-.94 2.06-2.06.94zm-11 1L8.5 8.5l.94-2.06 2.06-.94-2.06-.94L8.5 2.5l-.94 2.06-2.06.94zm10 10l.94 2.06.94-2.06 2.06-.94-2.06-.94-.94-2.06-.94 2.06-2.06.94z\"/><path d=\"M17.41 7.96l-1.37-1.37c-.4-.4-.92-.59-1.43-.59-.52 0-1.04.2-1.43.59L10.3 9.45l-7.72 7.72c-.78.78-.78 2.05 0 2.83L4 21.41c.39.39.9.59 1.41.59.51 0 1.02-.2 1.41-.59l7.78-7.78 2.81-2.81c.8-.78.8-2.07 0-2.86zM5.41 20L4 18.59l7.72-7.72 1.47 1.35L5.41 20z\"/>\n",
              "  </svg>\n",
              "      </button>\n",
              "      \n",
              "  <style>\n",
              "    .colab-df-container {\n",
              "      display:flex;\n",
              "      flex-wrap:wrap;\n",
              "      gap: 12px;\n",
              "    }\n",
              "\n",
              "    .colab-df-convert {\n",
              "      background-color: #E8F0FE;\n",
              "      border: none;\n",
              "      border-radius: 50%;\n",
              "      cursor: pointer;\n",
              "      display: none;\n",
              "      fill: #1967D2;\n",
              "      height: 32px;\n",
              "      padding: 0 0 0 0;\n",
              "      width: 32px;\n",
              "    }\n",
              "\n",
              "    .colab-df-convert:hover {\n",
              "      background-color: #E2EBFA;\n",
              "      box-shadow: 0px 1px 2px rgba(60, 64, 67, 0.3), 0px 1px 3px 1px rgba(60, 64, 67, 0.15);\n",
              "      fill: #174EA6;\n",
              "    }\n",
              "\n",
              "    [theme=dark] .colab-df-convert {\n",
              "      background-color: #3B4455;\n",
              "      fill: #D2E3FC;\n",
              "    }\n",
              "\n",
              "    [theme=dark] .colab-df-convert:hover {\n",
              "      background-color: #434B5C;\n",
              "      box-shadow: 0px 1px 3px 1px rgba(0, 0, 0, 0.15);\n",
              "      filter: drop-shadow(0px 1px 2px rgba(0, 0, 0, 0.3));\n",
              "      fill: #FFFFFF;\n",
              "    }\n",
              "  </style>\n",
              "\n",
              "      <script>\n",
              "        const buttonEl =\n",
              "          document.querySelector('#df-dccbe306-ff4d-4766-a290-c561bc5659cb button.colab-df-convert');\n",
              "        buttonEl.style.display =\n",
              "          google.colab.kernel.accessAllowed ? 'block' : 'none';\n",
              "\n",
              "        async function convertToInteractive(key) {\n",
              "          const element = document.querySelector('#df-dccbe306-ff4d-4766-a290-c561bc5659cb');\n",
              "          const dataTable =\n",
              "            await google.colab.kernel.invokeFunction('convertToInteractive',\n",
              "                                                     [key], {});\n",
              "          if (!dataTable) return;\n",
              "\n",
              "          const docLinkHtml = 'Like what you see? Visit the ' +\n",
              "            '<a target=\"_blank\" href=https://colab.research.google.com/notebooks/data_table.ipynb>data table notebook</a>'\n",
              "            + ' to learn more about interactive tables.';\n",
              "          element.innerHTML = '';\n",
              "          dataTable['output_type'] = 'display_data';\n",
              "          await google.colab.output.renderOutput(dataTable, element);\n",
              "          const docLink = document.createElement('div');\n",
              "          docLink.innerHTML = docLinkHtml;\n",
              "          element.appendChild(docLink);\n",
              "        }\n",
              "      </script>\n",
              "    </div>\n",
              "  </div>\n",
              "  "
            ]
          },
          "metadata": {},
          "execution_count": 2
        }
      ],
      "source": [
        "df = pd.read_csv(\"/content/churn_data.csv\")\n",
        "df.head(3)"
      ]
    },
    {
      "cell_type": "code",
      "source": [
        "df.drop(['CustomerId', 'RowNumber'], inplace=True, axis=1)"
      ],
      "metadata": {
        "id": "34tMhbihAbSF"
      },
      "execution_count": null,
      "outputs": []
    },
    {
      "cell_type": "code",
      "execution_count": null,
      "metadata": {
        "colab": {
          "base_uri": "https://localhost:8080/"
        },
        "id": "OVK8tky099Fk",
        "outputId": "817f1645-c352-4380-a2b6-356121989f8e"
      },
      "outputs": [
        {
          "output_type": "execute_result",
          "data": {
            "text/plain": [
              "0    0.7963\n",
              "1    0.2037\n",
              "Name: Exited, dtype: float64"
            ]
          },
          "metadata": {},
          "execution_count": 4
        }
      ],
      "source": [
        "df['Exited'].value_counts(normalize=True)\n",
        "# 4/1 => метрики precision/recall/fscore"
      ]
    },
    {
      "cell_type": "code",
      "execution_count": null,
      "metadata": {
        "id": "gjJto6f299Fk"
      },
      "outputs": [],
      "source": [
        "X_train, X_test, y_train, y_test = train_test_split(df.drop('Exited', axis=1), df['Exited'],\n",
        "                                                    random_state=197)"
      ]
    },
    {
      "cell_type": "code",
      "execution_count": null,
      "metadata": {
        "colab": {
          "base_uri": "https://localhost:8080/",
          "height": 143
        },
        "id": "CUuwjjeB99Fm",
        "outputId": "cb8ec1bd-f8cb-4bb8-9c34-c58d8305978e"
      },
      "outputs": [
        {
          "output_type": "execute_result",
          "data": {
            "text/plain": [
              "        Surname  CreditScore Geography  Gender  Age  Tenure    Balance  \\\n",
              "9997        Liu          709    France  Female   36       7       0.00   \n",
              "9998  Sabbatini          772   Germany    Male   42       3   75075.31   \n",
              "9999     Walker          792    France  Female   28       4  130142.79   \n",
              "\n",
              "      NumOfProducts  HasCrCard  IsActiveMember  EstimatedSalary  Exited  \n",
              "9997              1          0               1         42085.58       1  \n",
              "9998              2          1               0         92888.52       1  \n",
              "9999              1          1               0         38190.78       0  "
            ],
            "text/html": [
              "\n",
              "  <div id=\"df-52de0b08-5371-430b-b518-8f97924c6e59\">\n",
              "    <div class=\"colab-df-container\">\n",
              "      <div>\n",
              "<style scoped>\n",
              "    .dataframe tbody tr th:only-of-type {\n",
              "        vertical-align: middle;\n",
              "    }\n",
              "\n",
              "    .dataframe tbody tr th {\n",
              "        vertical-align: top;\n",
              "    }\n",
              "\n",
              "    .dataframe thead th {\n",
              "        text-align: right;\n",
              "    }\n",
              "</style>\n",
              "<table border=\"1\" class=\"dataframe\">\n",
              "  <thead>\n",
              "    <tr style=\"text-align: right;\">\n",
              "      <th></th>\n",
              "      <th>Surname</th>\n",
              "      <th>CreditScore</th>\n",
              "      <th>Geography</th>\n",
              "      <th>Gender</th>\n",
              "      <th>Age</th>\n",
              "      <th>Tenure</th>\n",
              "      <th>Balance</th>\n",
              "      <th>NumOfProducts</th>\n",
              "      <th>HasCrCard</th>\n",
              "      <th>IsActiveMember</th>\n",
              "      <th>EstimatedSalary</th>\n",
              "      <th>Exited</th>\n",
              "    </tr>\n",
              "  </thead>\n",
              "  <tbody>\n",
              "    <tr>\n",
              "      <th>9997</th>\n",
              "      <td>Liu</td>\n",
              "      <td>709</td>\n",
              "      <td>France</td>\n",
              "      <td>Female</td>\n",
              "      <td>36</td>\n",
              "      <td>7</td>\n",
              "      <td>0.00</td>\n",
              "      <td>1</td>\n",
              "      <td>0</td>\n",
              "      <td>1</td>\n",
              "      <td>42085.58</td>\n",
              "      <td>1</td>\n",
              "    </tr>\n",
              "    <tr>\n",
              "      <th>9998</th>\n",
              "      <td>Sabbatini</td>\n",
              "      <td>772</td>\n",
              "      <td>Germany</td>\n",
              "      <td>Male</td>\n",
              "      <td>42</td>\n",
              "      <td>3</td>\n",
              "      <td>75075.31</td>\n",
              "      <td>2</td>\n",
              "      <td>1</td>\n",
              "      <td>0</td>\n",
              "      <td>92888.52</td>\n",
              "      <td>1</td>\n",
              "    </tr>\n",
              "    <tr>\n",
              "      <th>9999</th>\n",
              "      <td>Walker</td>\n",
              "      <td>792</td>\n",
              "      <td>France</td>\n",
              "      <td>Female</td>\n",
              "      <td>28</td>\n",
              "      <td>4</td>\n",
              "      <td>130142.79</td>\n",
              "      <td>1</td>\n",
              "      <td>1</td>\n",
              "      <td>0</td>\n",
              "      <td>38190.78</td>\n",
              "      <td>0</td>\n",
              "    </tr>\n",
              "  </tbody>\n",
              "</table>\n",
              "</div>\n",
              "      <button class=\"colab-df-convert\" onclick=\"convertToInteractive('df-52de0b08-5371-430b-b518-8f97924c6e59')\"\n",
              "              title=\"Convert this dataframe to an interactive table.\"\n",
              "              style=\"display:none;\">\n",
              "        \n",
              "  <svg xmlns=\"http://www.w3.org/2000/svg\" height=\"24px\"viewBox=\"0 0 24 24\"\n",
              "       width=\"24px\">\n",
              "    <path d=\"M0 0h24v24H0V0z\" fill=\"none\"/>\n",
              "    <path d=\"M18.56 5.44l.94 2.06.94-2.06 2.06-.94-2.06-.94-.94-2.06-.94 2.06-2.06.94zm-11 1L8.5 8.5l.94-2.06 2.06-.94-2.06-.94L8.5 2.5l-.94 2.06-2.06.94zm10 10l.94 2.06.94-2.06 2.06-.94-2.06-.94-.94-2.06-.94 2.06-2.06.94z\"/><path d=\"M17.41 7.96l-1.37-1.37c-.4-.4-.92-.59-1.43-.59-.52 0-1.04.2-1.43.59L10.3 9.45l-7.72 7.72c-.78.78-.78 2.05 0 2.83L4 21.41c.39.39.9.59 1.41.59.51 0 1.02-.2 1.41-.59l7.78-7.78 2.81-2.81c.8-.78.8-2.07 0-2.86zM5.41 20L4 18.59l7.72-7.72 1.47 1.35L5.41 20z\"/>\n",
              "  </svg>\n",
              "      </button>\n",
              "      \n",
              "  <style>\n",
              "    .colab-df-container {\n",
              "      display:flex;\n",
              "      flex-wrap:wrap;\n",
              "      gap: 12px;\n",
              "    }\n",
              "\n",
              "    .colab-df-convert {\n",
              "      background-color: #E8F0FE;\n",
              "      border: none;\n",
              "      border-radius: 50%;\n",
              "      cursor: pointer;\n",
              "      display: none;\n",
              "      fill: #1967D2;\n",
              "      height: 32px;\n",
              "      padding: 0 0 0 0;\n",
              "      width: 32px;\n",
              "    }\n",
              "\n",
              "    .colab-df-convert:hover {\n",
              "      background-color: #E2EBFA;\n",
              "      box-shadow: 0px 1px 2px rgba(60, 64, 67, 0.3), 0px 1px 3px 1px rgba(60, 64, 67, 0.15);\n",
              "      fill: #174EA6;\n",
              "    }\n",
              "\n",
              "    [theme=dark] .colab-df-convert {\n",
              "      background-color: #3B4455;\n",
              "      fill: #D2E3FC;\n",
              "    }\n",
              "\n",
              "    [theme=dark] .colab-df-convert:hover {\n",
              "      background-color: #434B5C;\n",
              "      box-shadow: 0px 1px 3px 1px rgba(0, 0, 0, 0.15);\n",
              "      filter: drop-shadow(0px 1px 2px rgba(0, 0, 0, 0.3));\n",
              "      fill: #FFFFFF;\n",
              "    }\n",
              "  </style>\n",
              "\n",
              "      <script>\n",
              "        const buttonEl =\n",
              "          document.querySelector('#df-52de0b08-5371-430b-b518-8f97924c6e59 button.colab-df-convert');\n",
              "        buttonEl.style.display =\n",
              "          google.colab.kernel.accessAllowed ? 'block' : 'none';\n",
              "\n",
              "        async function convertToInteractive(key) {\n",
              "          const element = document.querySelector('#df-52de0b08-5371-430b-b518-8f97924c6e59');\n",
              "          const dataTable =\n",
              "            await google.colab.kernel.invokeFunction('convertToInteractive',\n",
              "                                                     [key], {});\n",
              "          if (!dataTable) return;\n",
              "\n",
              "          const docLinkHtml = 'Like what you see? Visit the ' +\n",
              "            '<a target=\"_blank\" href=https://colab.research.google.com/notebooks/data_table.ipynb>data table notebook</a>'\n",
              "            + ' to learn more about interactive tables.';\n",
              "          element.innerHTML = '';\n",
              "          dataTable['output_type'] = 'display_data';\n",
              "          await google.colab.output.renderOutput(dataTable, element);\n",
              "          const docLink = document.createElement('div');\n",
              "          docLink.innerHTML = docLinkHtml;\n",
              "          element.appendChild(docLink);\n",
              "        }\n",
              "      </script>\n",
              "    </div>\n",
              "  </div>\n",
              "  "
            ]
          },
          "metadata": {},
          "execution_count": 6
        }
      ],
      "source": [
        "df.tail(3)"
      ]
    },
    {
      "cell_type": "markdown",
      "source": [
        "### Пайплайн"
      ],
      "metadata": {
        "id": "tIWoYCNbDIPM"
      }
    },
    {
      "cell_type": "code",
      "execution_count": null,
      "metadata": {
        "id": "q-OXYi-d99Fk"
      },
      "outputs": [],
      "source": [
        "class FeatureSelector(BaseEstimator, TransformerMixin):\n",
        "    def __init__(self, column):\n",
        "        self.column = column\n",
        "\n",
        "    def fit(self, X, y=None):\n",
        "        return self\n",
        "\n",
        "    def transform(self, X, y=None):\n",
        "        return X[self.column]\n",
        "    \n",
        "class NumberSelector(BaseEstimator, TransformerMixin):\n",
        "    \n",
        "    def __init__(self, key):\n",
        "        self.key = key\n",
        "\n",
        "    def fit(self, X, y=None):\n",
        "        return self\n",
        "\n",
        "    def transform(self, X):\n",
        "        return X[[self.key]]\n",
        "    \n",
        "class OHEEncoder(BaseEstimator, TransformerMixin):\n",
        "    def __init__(self, key):\n",
        "        self.key = key\n",
        "        self.columns = []\n",
        "\n",
        "    def fit(self, X, y=None):\n",
        "        self.columns = [col for col in pd.get_dummies(X, prefix=self.key).columns]\n",
        "        return self\n",
        "\n",
        "    def transform(self, X):\n",
        "        X = pd.get_dummies(X, prefix=self.key)\n",
        "        test_columns = [col for col in X.columns]\n",
        "        for col_ in self.columns:\n",
        "            if col_ not in test_columns:\n",
        "                X[col_] = 0\n",
        "        return X[self.columns]"
      ]
    },
    {
      "cell_type": "code",
      "execution_count": null,
      "metadata": {
        "id": "lKgfya9v99Fm"
      },
      "outputs": [],
      "source": [
        "categorical_columns = ['Geography', 'Gender', 'IsActiveMember']\n",
        "continuous_columns = ['CreditScore', 'Age', 'Tenure', 'HasCrCard', 'Balance', 'NumOfProducts', 'EstimatedSalary']"
      ]
    },
    {
      "cell_type": "code",
      "execution_count": null,
      "metadata": {
        "id": "qfwY-HwD99Fn"
      },
      "outputs": [],
      "source": [
        "from sklearn.preprocessing import StandardScaler\n",
        "\n",
        "final_transformers = list()\n",
        "\n",
        "for cat_col in categorical_columns:\n",
        "    cat_transformer = Pipeline([\n",
        "                ('selector', FeatureSelector(column=cat_col)),\n",
        "                ('ohe', OHEEncoder(key=cat_col))\n",
        "            ])\n",
        "    final_transformers.append((cat_col, cat_transformer))\n",
        "    \n",
        "for cont_col in continuous_columns:\n",
        "    cont_transformer = Pipeline([\n",
        "                ('selector', NumberSelector(key=cont_col)),\n",
        "                 ('standardscaler', StandardScaler() )\n",
        "            ])\n",
        "    final_transformers.append((cont_col, cont_transformer))\n",
        "\n",
        "\n",
        "feats = FeatureUnion(final_transformers)\n",
        "\n",
        "feature_processing = Pipeline([('feats', feats)])"
      ]
    },
    {
      "cell_type": "code",
      "execution_count": null,
      "metadata": {
        "id": "7CJJ6bSR99Fo"
      },
      "outputs": [],
      "source": [
        "rfc_pipeline = Pipeline([\n",
        "    ('features', feats),\n",
        "    ('classifier', RandomForestClassifier(random_state = 197)),\n",
        "])\n",
        "\n",
        "xgb_pipeline = Pipeline([\n",
        "    ('features', feats),\n",
        "    ('classifier', xgb.XGBClassifier()),\n",
        "])\n",
        "\n",
        "lr_pipeline = Pipeline([\n",
        "    ('features', feats),\n",
        "    ('classifier', LogisticRegression(random_state = 197)),\n",
        "])"
      ]
    },
    {
      "cell_type": "markdown",
      "metadata": {
        "id": "lwS-ezIl99Fo"
      },
      "source": [
        "### Обучение"
      ]
    },
    {
      "cell_type": "code",
      "execution_count": null,
      "metadata": {
        "scrolled": false,
        "colab": {
          "base_uri": "https://localhost:8080/"
        },
        "id": "yzgD3TAv99Fo",
        "outputId": "cc8e9d82-aa25-42d7-ff66-11160f088064"
      },
      "outputs": [
        {
          "output_type": "execute_result",
          "data": {
            "text/plain": [
              "Pipeline(steps=[('features',\n",
              "                 FeatureUnion(transformer_list=[('Geography',\n",
              "                                                 Pipeline(steps=[('selector',\n",
              "                                                                  FeatureSelector(column='Geography')),\n",
              "                                                                 ('ohe',\n",
              "                                                                  OHEEncoder(key='Geography'))])),\n",
              "                                                ('Gender',\n",
              "                                                 Pipeline(steps=[('selector',\n",
              "                                                                  FeatureSelector(column='Gender')),\n",
              "                                                                 ('ohe',\n",
              "                                                                  OHEEncoder(key='Gender'))])),\n",
              "                                                ('IsActiveMember',\n",
              "                                                 Pipeline(steps=[('selector',\n",
              "                                                                  FeatureSelector(colu...\n",
              "                                                                  NumberSelector(key='Balance')),\n",
              "                                                                 ('standardscaler',\n",
              "                                                                  StandardScaler())])),\n",
              "                                                ('NumOfProducts',\n",
              "                                                 Pipeline(steps=[('selector',\n",
              "                                                                  NumberSelector(key='NumOfProducts')),\n",
              "                                                                 ('standardscaler',\n",
              "                                                                  StandardScaler())])),\n",
              "                                                ('EstimatedSalary',\n",
              "                                                 Pipeline(steps=[('selector',\n",
              "                                                                  NumberSelector(key='EstimatedSalary')),\n",
              "                                                                 ('standardscaler',\n",
              "                                                                  StandardScaler())]))])),\n",
              "                ('classifier', RandomForestClassifier(random_state=197))])"
            ]
          },
          "metadata": {},
          "execution_count": 25
        }
      ],
      "source": [
        "rfc_pipeline.fit(X_train, y_train)"
      ]
    },
    {
      "cell_type": "code",
      "source": [
        "xgb_pipeline.fit(X_train, y_train)"
      ],
      "metadata": {
        "colab": {
          "base_uri": "https://localhost:8080/"
        },
        "id": "5WGOBkbDnnml",
        "outputId": "7555b673-8298-43ac-d53e-977b03e57939"
      },
      "execution_count": null,
      "outputs": [
        {
          "output_type": "execute_result",
          "data": {
            "text/plain": [
              "Pipeline(steps=[('features',\n",
              "                 FeatureUnion(transformer_list=[('Geography',\n",
              "                                                 Pipeline(steps=[('selector',\n",
              "                                                                  FeatureSelector(column='Geography')),\n",
              "                                                                 ('ohe',\n",
              "                                                                  OHEEncoder(key='Geography'))])),\n",
              "                                                ('Gender',\n",
              "                                                 Pipeline(steps=[('selector',\n",
              "                                                                  FeatureSelector(column='Gender')),\n",
              "                                                                 ('ohe',\n",
              "                                                                  OHEEncoder(key='Gender'))])),\n",
              "                                                ('IsActiveMember',\n",
              "                                                 Pipeline(steps=[('selector',\n",
              "                                                                  FeatureSelector(colu...\n",
              "                                                                  NumberSelector(key='Balance')),\n",
              "                                                                 ('standardscaler',\n",
              "                                                                  StandardScaler())])),\n",
              "                                                ('NumOfProducts',\n",
              "                                                 Pipeline(steps=[('selector',\n",
              "                                                                  NumberSelector(key='NumOfProducts')),\n",
              "                                                                 ('standardscaler',\n",
              "                                                                  StandardScaler())])),\n",
              "                                                ('EstimatedSalary',\n",
              "                                                 Pipeline(steps=[('selector',\n",
              "                                                                  NumberSelector(key='EstimatedSalary')),\n",
              "                                                                 ('standardscaler',\n",
              "                                                                  StandardScaler())]))])),\n",
              "                ('classifier', XGBClassifier())])"
            ]
          },
          "metadata": {},
          "execution_count": 14
        }
      ]
    },
    {
      "cell_type": "code",
      "source": [
        "lr_pipeline.fit(X_train, y_train)"
      ],
      "metadata": {
        "colab": {
          "base_uri": "https://localhost:8080/"
        },
        "id": "_w43q-gvnoZJ",
        "outputId": "3b4d2f1a-6e6c-484e-8a35-8f7afef56044"
      },
      "execution_count": null,
      "outputs": [
        {
          "output_type": "execute_result",
          "data": {
            "text/plain": [
              "Pipeline(steps=[('features',\n",
              "                 FeatureUnion(transformer_list=[('Geography',\n",
              "                                                 Pipeline(steps=[('selector',\n",
              "                                                                  FeatureSelector(column='Geography')),\n",
              "                                                                 ('ohe',\n",
              "                                                                  OHEEncoder(key='Geography'))])),\n",
              "                                                ('Gender',\n",
              "                                                 Pipeline(steps=[('selector',\n",
              "                                                                  FeatureSelector(column='Gender')),\n",
              "                                                                 ('ohe',\n",
              "                                                                  OHEEncoder(key='Gender'))])),\n",
              "                                                ('IsActiveMember',\n",
              "                                                 Pipeline(steps=[('selector',\n",
              "                                                                  FeatureSelector(colu...\n",
              "                                                                  NumberSelector(key='Balance')),\n",
              "                                                                 ('standardscaler',\n",
              "                                                                  StandardScaler())])),\n",
              "                                                ('NumOfProducts',\n",
              "                                                 Pipeline(steps=[('selector',\n",
              "                                                                  NumberSelector(key='NumOfProducts')),\n",
              "                                                                 ('standardscaler',\n",
              "                                                                  StandardScaler())])),\n",
              "                                                ('EstimatedSalary',\n",
              "                                                 Pipeline(steps=[('selector',\n",
              "                                                                  NumberSelector(key='EstimatedSalary')),\n",
              "                                                                 ('standardscaler',\n",
              "                                                                  StandardScaler())]))])),\n",
              "                ('classifier', LogisticRegression(random_state=197))])"
            ]
          },
          "metadata": {},
          "execution_count": 15
        }
      ]
    },
    {
      "cell_type": "code",
      "execution_count": null,
      "metadata": {
        "colab": {
          "base_uri": "https://localhost:8080/"
        },
        "id": "zggUDGqF99Fo",
        "outputId": "4d209966-325e-4226-f0a2-6b948116667f"
      },
      "outputs": [
        {
          "output_type": "stream",
          "name": "stdout",
          "text": [
            "[0.   0.67 0.01 0.93 0.02]\n",
            "[0.01 0.66 0.02 0.79 0.02]\n",
            "[0.03 0.5  0.06 0.42 0.04]\n"
          ]
        }
      ],
      "source": [
        "rfc_preds = rfc_pipeline.predict_proba(X_test)[:, 1]\n",
        "print(rfc_preds[:5])\n",
        "\n",
        "xgb_preds = xgb_pipeline.predict_proba(X_test)[:, 1]\n",
        "print(xgb_preds[:5].round(2))\n",
        "\n",
        "lr_preds = lr_pipeline.predict_proba(X_test)[:, 1]\n",
        "print(lr_preds[:5].round(2))"
      ]
    },
    {
      "cell_type": "markdown",
      "metadata": {
        "id": "Ps48mpxb99Fp"
      },
      "source": [
        "### Метрики"
      ]
    },
    {
      "cell_type": "code",
      "execution_count": null,
      "metadata": {
        "id": "No0Z8nYb99Fp"
      },
      "outputs": [],
      "source": [
        "from sklearn.metrics import f1_score, roc_auc_score, precision_score, classification_report, precision_recall_curve, confusion_matrix"
      ]
    },
    {
      "cell_type": "code",
      "source": [
        "def make_metrics(preds):\n",
        "\n",
        "  precision, recall, thresholds = precision_recall_curve(y_test, preds)\n",
        "  fscore = (2 * precision * recall) / (precision + recall)\n",
        "\n",
        "  ix = np.argmax(fscore)\n",
        "  #print('Best Threshold=%f, F-Score=%.3f, Precision=%.3f, Recall=%.3f' % (thresholds[ix], fscore[ix],\n",
        "  #                                                                      precision[ix], recall[ix]))\n",
        "\n",
        "  return [ thresholds[ix], fscore[ix], precision[ix], recall[ix] ]"
      ],
      "metadata": {
        "id": "zzZRnneyoTxm"
      },
      "execution_count": null,
      "outputs": []
    },
    {
      "cell_type": "code",
      "execution_count": null,
      "metadata": {
        "colab": {
          "base_uri": "https://localhost:8080/",
          "height": 175
        },
        "id": "33tqQlKO99Fp",
        "outputId": "cbe923b1-d48e-4c99-8c7f-cd4147acfe99"
      },
      "outputs": [
        {
          "output_type": "execute_result",
          "data": {
            "text/plain": [
              "                RFC       XGB        LR\n",
              "threshold  0.360000  0.262445  0.304930\n",
              "fscore     0.615385  0.620000  0.487759\n",
              "precision  0.627615  0.565506  0.458407\n",
              "recall     0.603622  0.686117  0.521127"
            ],
            "text/html": [
              "\n",
              "  <div id=\"df-67bcf45b-f842-4759-a2a6-b742f765ecfa\">\n",
              "    <div class=\"colab-df-container\">\n",
              "      <div>\n",
              "<style scoped>\n",
              "    .dataframe tbody tr th:only-of-type {\n",
              "        vertical-align: middle;\n",
              "    }\n",
              "\n",
              "    .dataframe tbody tr th {\n",
              "        vertical-align: top;\n",
              "    }\n",
              "\n",
              "    .dataframe thead th {\n",
              "        text-align: right;\n",
              "    }\n",
              "</style>\n",
              "<table border=\"1\" class=\"dataframe\">\n",
              "  <thead>\n",
              "    <tr style=\"text-align: right;\">\n",
              "      <th></th>\n",
              "      <th>RFC</th>\n",
              "      <th>XGB</th>\n",
              "      <th>LR</th>\n",
              "    </tr>\n",
              "  </thead>\n",
              "  <tbody>\n",
              "    <tr>\n",
              "      <th>threshold</th>\n",
              "      <td>0.360000</td>\n",
              "      <td>0.262445</td>\n",
              "      <td>0.304930</td>\n",
              "    </tr>\n",
              "    <tr>\n",
              "      <th>fscore</th>\n",
              "      <td>0.615385</td>\n",
              "      <td>0.620000</td>\n",
              "      <td>0.487759</td>\n",
              "    </tr>\n",
              "    <tr>\n",
              "      <th>precision</th>\n",
              "      <td>0.627615</td>\n",
              "      <td>0.565506</td>\n",
              "      <td>0.458407</td>\n",
              "    </tr>\n",
              "    <tr>\n",
              "      <th>recall</th>\n",
              "      <td>0.603622</td>\n",
              "      <td>0.686117</td>\n",
              "      <td>0.521127</td>\n",
              "    </tr>\n",
              "  </tbody>\n",
              "</table>\n",
              "</div>\n",
              "      <button class=\"colab-df-convert\" onclick=\"convertToInteractive('df-67bcf45b-f842-4759-a2a6-b742f765ecfa')\"\n",
              "              title=\"Convert this dataframe to an interactive table.\"\n",
              "              style=\"display:none;\">\n",
              "        \n",
              "  <svg xmlns=\"http://www.w3.org/2000/svg\" height=\"24px\"viewBox=\"0 0 24 24\"\n",
              "       width=\"24px\">\n",
              "    <path d=\"M0 0h24v24H0V0z\" fill=\"none\"/>\n",
              "    <path d=\"M18.56 5.44l.94 2.06.94-2.06 2.06-.94-2.06-.94-.94-2.06-.94 2.06-2.06.94zm-11 1L8.5 8.5l.94-2.06 2.06-.94-2.06-.94L8.5 2.5l-.94 2.06-2.06.94zm10 10l.94 2.06.94-2.06 2.06-.94-2.06-.94-.94-2.06-.94 2.06-2.06.94z\"/><path d=\"M17.41 7.96l-1.37-1.37c-.4-.4-.92-.59-1.43-.59-.52 0-1.04.2-1.43.59L10.3 9.45l-7.72 7.72c-.78.78-.78 2.05 0 2.83L4 21.41c.39.39.9.59 1.41.59.51 0 1.02-.2 1.41-.59l7.78-7.78 2.81-2.81c.8-.78.8-2.07 0-2.86zM5.41 20L4 18.59l7.72-7.72 1.47 1.35L5.41 20z\"/>\n",
              "  </svg>\n",
              "      </button>\n",
              "      \n",
              "  <style>\n",
              "    .colab-df-container {\n",
              "      display:flex;\n",
              "      flex-wrap:wrap;\n",
              "      gap: 12px;\n",
              "    }\n",
              "\n",
              "    .colab-df-convert {\n",
              "      background-color: #E8F0FE;\n",
              "      border: none;\n",
              "      border-radius: 50%;\n",
              "      cursor: pointer;\n",
              "      display: none;\n",
              "      fill: #1967D2;\n",
              "      height: 32px;\n",
              "      padding: 0 0 0 0;\n",
              "      width: 32px;\n",
              "    }\n",
              "\n",
              "    .colab-df-convert:hover {\n",
              "      background-color: #E2EBFA;\n",
              "      box-shadow: 0px 1px 2px rgba(60, 64, 67, 0.3), 0px 1px 3px 1px rgba(60, 64, 67, 0.15);\n",
              "      fill: #174EA6;\n",
              "    }\n",
              "\n",
              "    [theme=dark] .colab-df-convert {\n",
              "      background-color: #3B4455;\n",
              "      fill: #D2E3FC;\n",
              "    }\n",
              "\n",
              "    [theme=dark] .colab-df-convert:hover {\n",
              "      background-color: #434B5C;\n",
              "      box-shadow: 0px 1px 3px 1px rgba(0, 0, 0, 0.15);\n",
              "      filter: drop-shadow(0px 1px 2px rgba(0, 0, 0, 0.3));\n",
              "      fill: #FFFFFF;\n",
              "    }\n",
              "  </style>\n",
              "\n",
              "      <script>\n",
              "        const buttonEl =\n",
              "          document.querySelector('#df-67bcf45b-f842-4759-a2a6-b742f765ecfa button.colab-df-convert');\n",
              "        buttonEl.style.display =\n",
              "          google.colab.kernel.accessAllowed ? 'block' : 'none';\n",
              "\n",
              "        async function convertToInteractive(key) {\n",
              "          const element = document.querySelector('#df-67bcf45b-f842-4759-a2a6-b742f765ecfa');\n",
              "          const dataTable =\n",
              "            await google.colab.kernel.invokeFunction('convertToInteractive',\n",
              "                                                     [key], {});\n",
              "          if (!dataTable) return;\n",
              "\n",
              "          const docLinkHtml = 'Like what you see? Visit the ' +\n",
              "            '<a target=\"_blank\" href=https://colab.research.google.com/notebooks/data_table.ipynb>data table notebook</a>'\n",
              "            + ' to learn more about interactive tables.';\n",
              "          element.innerHTML = '';\n",
              "          dataTable['output_type'] = 'display_data';\n",
              "          await google.colab.output.renderOutput(dataTable, element);\n",
              "          const docLink = document.createElement('div');\n",
              "          docLink.innerHTML = docLinkHtml;\n",
              "          element.appendChild(docLink);\n",
              "        }\n",
              "      </script>\n",
              "    </div>\n",
              "  </div>\n",
              "  "
            ]
          },
          "metadata": {},
          "execution_count": 51
        }
      ],
      "source": [
        "results = {'RFC': make_metrics(rfc_preds), \n",
        "           'XGB': make_metrics(xgb_preds),  \n",
        "           'LR': make_metrics(lr_preds)}\n",
        "\n",
        "pd.DataFrame(results, index=['threshold', 'fscore', 'precision', 'recall'])"
      ]
    },
    {
      "cell_type": "markdown",
      "source": [
        "В задаче оттока максимизирую **precision**: перед тратами на взаимодействие с клиентом нужна большая уверенность в том, что он является таргетом, даже если не все уходящие клиенты будут находиться алгоритмом (recall)."
      ],
      "metadata": {
        "id": "hCph1jssteGu"
      }
    },
    {
      "cell_type": "markdown",
      "source": [
        "### Бизнес-метрика"
      ],
      "metadata": {
        "id": "7IQhBFi1udab"
      }
    },
    {
      "cell_type": "markdown",
      "source": [
        "Можно еще посчитать прибыль с каждой модели:\n",
        "\n",
        "условно, каждый возвращенный клиент приносит прибыль в 2 доллара США, каждый звонок клиенту стоит 1 доллар США"
      ],
      "metadata": {
        "id": "GDIOtcoRz_Df"
      }
    },
    {
      "cell_type": "code",
      "source": [
        "def count_profit(preds):\n",
        "\n",
        "    conf_matrix = confusion_matrix(y_test, preds > make_metrics(preds)[0])\n",
        "\n",
        "    TN = conf_matrix[0][0]\n",
        "    FP = conf_matrix[0][1]\n",
        "    FN = conf_matrix[1][0]\n",
        "    TP = conf_matrix[1][1]\n",
        "\n",
        "    profit = 2 * TP - 1 * np.sum(conf_matrix[:, 1])\n",
        "\n",
        "    return profit"
      ],
      "metadata": {
        "id": "cIYiE7pruhyX"
      },
      "execution_count": null,
      "outputs": []
    },
    {
      "cell_type": "code",
      "source": [
        "print(f'Random Forest Classifier: {count_profit(rfc_preds)} USD.')\n",
        "print(f'XGBoost: {count_profit(xgb_preds)} USD.')\n",
        "print(f'Logistic Regression: {count_profit(lr_preds)} USD.')"
      ],
      "metadata": {
        "colab": {
          "base_uri": "https://localhost:8080/"
        },
        "id": "H65jlanlvxFE",
        "outputId": "2556ee4c-837e-4f0a-950e-bd92cbb59d4d"
      },
      "execution_count": null,
      "outputs": [
        {
          "output_type": "stream",
          "name": "stdout",
          "text": [
            "Random Forest Classifier: 127 USD.\n",
            "XGBoost: 78 USD.\n",
            "Logistic Regression: -48 USD.\n"
          ]
        }
      ]
    },
    {
      "cell_type": "markdown",
      "source": [
        "В прибыли выводы такие же: логистическая регрессия будет тратить средства и нервы на звонки клиентам, а Случайный Лес усердно зарабатывает баксы."
      ],
      "metadata": {
        "id": "nQ-T2RX8z4gY"
      }
    },
    {
      "cell_type": "markdown",
      "metadata": {
        "id": "OXwZf8Mp99Fr"
      },
      "source": [
        "### GridSearch"
      ]
    },
    {
      "cell_type": "code",
      "execution_count": null,
      "metadata": {
        "id": "esA7NHTT99Fr"
      },
      "outputs": [],
      "source": [
        "from sklearn.model_selection import GridSearchCV\n",
        "\n",
        "params={'classifier__max_features':[0.3, 0.5, 0.7],\n",
        "        'classifier__min_samples_leaf':[1, 2, 3],\n",
        "        'classifier__max_depth':[5, 6, 7]\n",
        "        }"
      ]
    },
    {
      "cell_type": "code",
      "execution_count": null,
      "metadata": {
        "scrolled": true,
        "colab": {
          "base_uri": "https://localhost:8080/"
        },
        "id": "ntyu237e99Fr",
        "outputId": "ba009ed8-6c44-4ea6-a517-20fe6b497653"
      },
      "outputs": [
        {
          "output_type": "execute_result",
          "data": {
            "text/plain": [
              "{'classifier__max_depth': 7,\n",
              " 'classifier__max_features': 0.7,\n",
              " 'classifier__min_samples_leaf': 2}"
            ]
          },
          "metadata": {},
          "execution_count": 58
        }
      ],
      "source": [
        "grid = GridSearchCV(rfc_pipeline,\n",
        "                    param_grid=params,\n",
        "                    cv=6,\n",
        "                    refit=False)\n",
        "\n",
        "search = grid.fit(X_train, y_train)\n",
        "search.best_params_"
      ]
    },
    {
      "cell_type": "code",
      "execution_count": null,
      "metadata": {
        "colab": {
          "base_uri": "https://localhost:8080/"
        },
        "id": "NAhZdeoo99Ft",
        "outputId": "a50a3229-916a-4667-aca9-4b3235ae614a"
      },
      "outputs": [
        {
          "output_type": "execute_result",
          "data": {
            "text/plain": [
              "Pipeline(steps=[('features',\n",
              "                 FeatureUnion(transformer_list=[('Geography',\n",
              "                                                 Pipeline(steps=[('selector',\n",
              "                                                                  FeatureSelector(column='Geography')),\n",
              "                                                                 ('ohe',\n",
              "                                                                  OHEEncoder(key='Geography'))])),\n",
              "                                                ('Gender',\n",
              "                                                 Pipeline(steps=[('selector',\n",
              "                                                                  FeatureSelector(column='Gender')),\n",
              "                                                                 ('ohe',\n",
              "                                                                  OHEEncoder(key='Gender'))])),\n",
              "                                                ('IsActiveMember',\n",
              "                                                 Pipeline(steps=[('selector',\n",
              "                                                                  FeatureSelector(colu...\n",
              "                                                ('NumOfProducts',\n",
              "                                                 Pipeline(steps=[('selector',\n",
              "                                                                  NumberSelector(key='NumOfProducts')),\n",
              "                                                                 ('standardscaler',\n",
              "                                                                  StandardScaler())])),\n",
              "                                                ('EstimatedSalary',\n",
              "                                                 Pipeline(steps=[('selector',\n",
              "                                                                  NumberSelector(key='EstimatedSalary')),\n",
              "                                                                 ('standardscaler',\n",
              "                                                                  StandardScaler())]))])),\n",
              "                ('classifier',\n",
              "                 RandomForestClassifier(max_depth=7, max_features=0.7,\n",
              "                                        min_samples_leaf=2,\n",
              "                                        random_state=197))])"
            ]
          },
          "metadata": {},
          "execution_count": 59
        }
      ],
      "source": [
        "rfc_upd_pipeline = Pipeline([\n",
        "    ('features', feats),\n",
        "    ('classifier', RandomForestClassifier(max_depth=7, max_features=0.7, \n",
        "                                          min_samples_leaf=2, random_state=197)),\n",
        "])\n",
        "rfc_upd_pipeline.fit(X_train, y_train)"
      ]
    },
    {
      "cell_type": "code",
      "execution_count": null,
      "metadata": {
        "colab": {
          "base_uri": "https://localhost:8080/"
        },
        "id": "-RnGITQK99Ft",
        "outputId": "b20c87aa-b25e-4102-8839-6d42ed59db10"
      },
      "outputs": [
        {
          "output_type": "stream",
          "name": "stdout",
          "text": [
            "[0.2670323641571962, 0.614391143911439, 0.5672913117546848, 0.670020120724346]\n",
            "Random Forest Classifier updated: 78 USD.\n"
          ]
        }
      ],
      "source": [
        "rfc_upd_preds = rfc_upd_pipeline.predict_proba(X_test)[:, 1]\n",
        "print(make_metrics(rfc_upd_preds))\n",
        "\n",
        "print(f'Random Forest Classifier updated: {count_profit(rfc_upd_preds)} USD.')"
      ]
    },
    {
      "cell_type": "markdown",
      "source": [
        "Ммм. Понятно, GridSearch нашел минимальную ошибку, но мне нужно максимизировать прибыль (или точность)."
      ],
      "metadata": {
        "id": "MKJ9uLqN2OF5"
      }
    },
    {
      "cell_type": "code",
      "source": [
        "def max_profit(preds):\n",
        "  profits = []\n",
        "\n",
        "  thresholds = np.linspace(0, 1, 100)\n",
        "  for i in thresholds:\n",
        "    cnf_matrix = confusion_matrix(y_test, preds > i)\n",
        "    profits.append(2 * cnf_matrix[1][1] - 1 * np.sum(cnf_matrix[:, 1]))\n",
        "    ix = np.argmax(profits)\n",
        "  \n",
        "  return profits[ix]\n",
        "\n",
        "\n",
        "print(f'At its best RandomForestClassifier makes {max_profit(rfc_upd_preds)} USD.')"
      ],
      "metadata": {
        "colab": {
          "base_uri": "https://localhost:8080/"
        },
        "id": "2T93XofE3Lyh",
        "outputId": "424eebf1-7155-465f-bc5f-02940d7a8d0b"
      },
      "execution_count": null,
      "outputs": [
        {
          "output_type": "stream",
          "name": "stdout",
          "text": [
            "At its best RandomForestClassifier makes 163 USD.\n"
          ]
        }
      ]
    },
    {
      "cell_type": "markdown",
      "source": [
        "Вывод: меняя порог для классификации, можно добиться максимальной прибыли (а в бизнес-моделях это важнее f-score)"
      ],
      "metadata": {
        "id": "f40lG3hsVuxP"
      }
    }
  ],
  "metadata": {
    "kernelspec": {
      "display_name": "Python 3",
      "language": "python",
      "name": "python3"
    },
    "language_info": {
      "codemirror_mode": {
        "name": "ipython",
        "version": 3
      },
      "file_extension": ".py",
      "mimetype": "text/x-python",
      "name": "python",
      "nbconvert_exporter": "python",
      "pygments_lexer": "ipython3",
      "version": "3.7.3"
    },
    "colab": {
      "provenance": [],
      "collapsed_sections": []
    }
  },
  "nbformat": 4,
  "nbformat_minor": 0
}