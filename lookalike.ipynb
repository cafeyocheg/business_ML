{
  "nbformat": 4,
  "nbformat_minor": 0,
  "metadata": {
    "colab": {
      "provenance": [],
      "collapsed_sections": []
    },
    "kernelspec": {
      "name": "python3",
      "display_name": "Python 3"
    },
    "language_info": {
      "name": "python"
    }
  },
  "cells": [
    {
      "cell_type": "markdown",
      "source": [
        "### LookAlike"
      ],
      "metadata": {
        "id": "mryGYS5y3Sjv"
      }
    },
    {
      "cell_type": "markdown",
      "source": [
        "1. набор данных для бинарной классификации\n",
        "2. проведение feature engineering\n",
        "3. обучение классификатора\n",
        "4. разделение набора данных на два множества: P (positives) и U (unlabeled). В выборке P будут не все положительные примеры, а их часть\n",
        "5. random negative sampling для построения классификатора в новых условиях и сравнение с классификацией из пункта 3\n",
        "6. нахождение лучшего качества модели при уменьшении/увеличении размера Positive-выборки"
      ],
      "metadata": {
        "id": "-opphwY33Q34"
      }
    },
    {
      "cell_type": "code",
      "source": [
        "import pandas as pd\n",
        "import numpy as np\n",
        "\n",
        "from sklearn.base import BaseEstimator, TransformerMixin\n",
        "from sklearn.pipeline import Pipeline, FeatureUnion\n",
        "from sklearn.preprocessing import StandardScaler\n",
        "from sklearn.model_selection import train_test_split\n",
        "from sklearn.metrics import f1_score, roc_auc_score, precision_recall_curve\n",
        "\n",
        "from sklearn.ensemble import RandomForestClassifier\n",
        "from sklearn.linear_model import LogisticRegression\n",
        "from sklearn.tree import DecisionTreeClassifier\n",
        "from xgboost import XGBClassifier\n",
        "\n",
        "\n"
      ],
      "metadata": {
        "id": "cqaEEyOFMcce"
      },
      "execution_count": null,
      "outputs": []
    },
    {
      "cell_type": "markdown",
      "source": [
        "### Загрузка данных"
      ],
      "metadata": {
        "id": "F0DQt7Mr4GBl"
      }
    },
    {
      "cell_type": "markdown",
      "source": [
        "Датасет содержит анонимные данные о 395 студентах двух средних школ в Португалии.\n",
        "\n",
        "Таргет: по умолчанию в соревновании на kaggle это успеваемость по математике или португальскому (G1-G3).\n",
        "\n",
        "У меня: *paid*, дополнительные курсы по предмету (в моем случае только по математике)."
      ],
      "metadata": {
        "id": "adOdUWBqgamS"
      }
    },
    {
      "cell_type": "code",
      "execution_count": null,
      "metadata": {
        "id": "q-VCJKET3H1Y"
      },
      "outputs": [],
      "source": [
        "data = pd.read_csv('/content/Maths.csv')"
      ]
    },
    {
      "cell_type": "code",
      "source": [
        "info = pd.read_excel('/content/info.xlsx')\n",
        "info\n",
        "# G3 = final math grade (numeric: from 0 to 20, output target)"
      ],
      "metadata": {
        "colab": {
          "base_uri": "https://localhost:8080/",
          "height": 990
        },
        "id": "1_xecxMFf9bn",
        "outputId": "954e8c50-a14d-48eb-9bfb-d5850d773d2f"
      },
      "execution_count": null,
      "outputs": [
        {
          "output_type": "execute_result",
          "data": {
            "text/plain": [
              "       Columns                                        Description\n",
              "0       school  student's school (binary: 'GP' - Gabriel Perei...\n",
              "1          sex  student's sex (binary: 'F' - female or 'M' - m...\n",
              "2          age             student's age (numeric: from 15 to 22)\n",
              "3      address  student's home address type (binary: 'U' - urb...\n",
              "4      famsize  family size (binary: 'LE3' - less or equal to ...\n",
              "5      Pstatus  parent's cohabitation status (binary: 'T' - li...\n",
              "6         Medu  mother's education (numeric: 0 - none, 1 - pri...\n",
              "7         Fedu  father's education (numeric: 0 - none, 1 - pri...\n",
              "8         Mjob  mother's job (nominal: 'teacher', 'health' car...\n",
              "9         Fjob  father's job (nominal: 'teacher', 'health' car...\n",
              "10      reason  reason to choose this school (nominal: close t...\n",
              "11    guardian  student's guardian (nominal: 'mother', 'father...\n",
              "12  traveltime  home to school travel time (numeric: 1 - <15 m...\n",
              "13   studytime  weekly study time (numeric: 1 - <2 hours, 2 - ...\n",
              "14    failures  number of past class failures (numeric: n if 1...\n",
              "15   schoolsup      extra educational support (binary: yes or no)\n",
              "16      famsup     family educational support (binary: yes or no)\n",
              "17        paid  extra paid classes within the course subject (...\n",
              "18  activities    extra-curricular activities (binary: yes or no)\n",
              "19     nursery        attended nursery school (binary: yes or no)\n",
              "20      higher  wants to take higher education (binary: yes or...\n",
              "21    internet        Internet access at home (binary: yes or no)\n",
              "22    romantic   with a romantic relationship (binary: yes or no)\n",
              "23      famrel  quality of family relationships (numeric: from...\n",
              "24    freetime  free time after school (numeric: from 1 - very...\n",
              "25       goout  going out with friends (numeric: from 1 - very...\n",
              "26        Dalc  workday alcohol consumption (numeric: from 1 -...\n",
              "27        Walc  weekend alcohol consumption (numeric: from 1 -...\n",
              "28      health  current health status (numeric: from 1 - very ...\n",
              "29    absences  number of school absences (numeric: from 0 to 93)"
            ],
            "text/html": [
              "\n",
              "  <div id=\"df-d3ff9e64-1964-4710-bc2a-bd7ed2f27b58\">\n",
              "    <div class=\"colab-df-container\">\n",
              "      <div>\n",
              "<style scoped>\n",
              "    .dataframe tbody tr th:only-of-type {\n",
              "        vertical-align: middle;\n",
              "    }\n",
              "\n",
              "    .dataframe tbody tr th {\n",
              "        vertical-align: top;\n",
              "    }\n",
              "\n",
              "    .dataframe thead th {\n",
              "        text-align: right;\n",
              "    }\n",
              "</style>\n",
              "<table border=\"1\" class=\"dataframe\">\n",
              "  <thead>\n",
              "    <tr style=\"text-align: right;\">\n",
              "      <th></th>\n",
              "      <th>Columns</th>\n",
              "      <th>Description</th>\n",
              "    </tr>\n",
              "  </thead>\n",
              "  <tbody>\n",
              "    <tr>\n",
              "      <th>0</th>\n",
              "      <td>school</td>\n",
              "      <td>student's school (binary: 'GP' - Gabriel Perei...</td>\n",
              "    </tr>\n",
              "    <tr>\n",
              "      <th>1</th>\n",
              "      <td>sex</td>\n",
              "      <td>student's sex (binary: 'F' - female or 'M' - m...</td>\n",
              "    </tr>\n",
              "    <tr>\n",
              "      <th>2</th>\n",
              "      <td>age</td>\n",
              "      <td>student's age (numeric: from 15 to 22)</td>\n",
              "    </tr>\n",
              "    <tr>\n",
              "      <th>3</th>\n",
              "      <td>address</td>\n",
              "      <td>student's home address type (binary: 'U' - urb...</td>\n",
              "    </tr>\n",
              "    <tr>\n",
              "      <th>4</th>\n",
              "      <td>famsize</td>\n",
              "      <td>family size (binary: 'LE3' - less or equal to ...</td>\n",
              "    </tr>\n",
              "    <tr>\n",
              "      <th>5</th>\n",
              "      <td>Pstatus</td>\n",
              "      <td>parent's cohabitation status (binary: 'T' - li...</td>\n",
              "    </tr>\n",
              "    <tr>\n",
              "      <th>6</th>\n",
              "      <td>Medu</td>\n",
              "      <td>mother's education (numeric: 0 - none, 1 - pri...</td>\n",
              "    </tr>\n",
              "    <tr>\n",
              "      <th>7</th>\n",
              "      <td>Fedu</td>\n",
              "      <td>father's education (numeric: 0 - none, 1 - pri...</td>\n",
              "    </tr>\n",
              "    <tr>\n",
              "      <th>8</th>\n",
              "      <td>Mjob</td>\n",
              "      <td>mother's job (nominal: 'teacher', 'health' car...</td>\n",
              "    </tr>\n",
              "    <tr>\n",
              "      <th>9</th>\n",
              "      <td>Fjob</td>\n",
              "      <td>father's job (nominal: 'teacher', 'health' car...</td>\n",
              "    </tr>\n",
              "    <tr>\n",
              "      <th>10</th>\n",
              "      <td>reason</td>\n",
              "      <td>reason to choose this school (nominal: close t...</td>\n",
              "    </tr>\n",
              "    <tr>\n",
              "      <th>11</th>\n",
              "      <td>guardian</td>\n",
              "      <td>student's guardian (nominal: 'mother', 'father...</td>\n",
              "    </tr>\n",
              "    <tr>\n",
              "      <th>12</th>\n",
              "      <td>traveltime</td>\n",
              "      <td>home to school travel time (numeric: 1 - &lt;15 m...</td>\n",
              "    </tr>\n",
              "    <tr>\n",
              "      <th>13</th>\n",
              "      <td>studytime</td>\n",
              "      <td>weekly study time (numeric: 1 - &lt;2 hours, 2 - ...</td>\n",
              "    </tr>\n",
              "    <tr>\n",
              "      <th>14</th>\n",
              "      <td>failures</td>\n",
              "      <td>number of past class failures (numeric: n if 1...</td>\n",
              "    </tr>\n",
              "    <tr>\n",
              "      <th>15</th>\n",
              "      <td>schoolsup</td>\n",
              "      <td>extra educational support (binary: yes or no)</td>\n",
              "    </tr>\n",
              "    <tr>\n",
              "      <th>16</th>\n",
              "      <td>famsup</td>\n",
              "      <td>family educational support (binary: yes or no)</td>\n",
              "    </tr>\n",
              "    <tr>\n",
              "      <th>17</th>\n",
              "      <td>paid</td>\n",
              "      <td>extra paid classes within the course subject (...</td>\n",
              "    </tr>\n",
              "    <tr>\n",
              "      <th>18</th>\n",
              "      <td>activities</td>\n",
              "      <td>extra-curricular activities (binary: yes or no)</td>\n",
              "    </tr>\n",
              "    <tr>\n",
              "      <th>19</th>\n",
              "      <td>nursery</td>\n",
              "      <td>attended nursery school (binary: yes or no)</td>\n",
              "    </tr>\n",
              "    <tr>\n",
              "      <th>20</th>\n",
              "      <td>higher</td>\n",
              "      <td>wants to take higher education (binary: yes or...</td>\n",
              "    </tr>\n",
              "    <tr>\n",
              "      <th>21</th>\n",
              "      <td>internet</td>\n",
              "      <td>Internet access at home (binary: yes or no)</td>\n",
              "    </tr>\n",
              "    <tr>\n",
              "      <th>22</th>\n",
              "      <td>romantic</td>\n",
              "      <td>with a romantic relationship (binary: yes or no)</td>\n",
              "    </tr>\n",
              "    <tr>\n",
              "      <th>23</th>\n",
              "      <td>famrel</td>\n",
              "      <td>quality of family relationships (numeric: from...</td>\n",
              "    </tr>\n",
              "    <tr>\n",
              "      <th>24</th>\n",
              "      <td>freetime</td>\n",
              "      <td>free time after school (numeric: from 1 - very...</td>\n",
              "    </tr>\n",
              "    <tr>\n",
              "      <th>25</th>\n",
              "      <td>goout</td>\n",
              "      <td>going out with friends (numeric: from 1 - very...</td>\n",
              "    </tr>\n",
              "    <tr>\n",
              "      <th>26</th>\n",
              "      <td>Dalc</td>\n",
              "      <td>workday alcohol consumption (numeric: from 1 -...</td>\n",
              "    </tr>\n",
              "    <tr>\n",
              "      <th>27</th>\n",
              "      <td>Walc</td>\n",
              "      <td>weekend alcohol consumption (numeric: from 1 -...</td>\n",
              "    </tr>\n",
              "    <tr>\n",
              "      <th>28</th>\n",
              "      <td>health</td>\n",
              "      <td>current health status (numeric: from 1 - very ...</td>\n",
              "    </tr>\n",
              "    <tr>\n",
              "      <th>29</th>\n",
              "      <td>absences</td>\n",
              "      <td>number of school absences (numeric: from 0 to 93)</td>\n",
              "    </tr>\n",
              "  </tbody>\n",
              "</table>\n",
              "</div>\n",
              "      <button class=\"colab-df-convert\" onclick=\"convertToInteractive('df-d3ff9e64-1964-4710-bc2a-bd7ed2f27b58')\"\n",
              "              title=\"Convert this dataframe to an interactive table.\"\n",
              "              style=\"display:none;\">\n",
              "        \n",
              "  <svg xmlns=\"http://www.w3.org/2000/svg\" height=\"24px\"viewBox=\"0 0 24 24\"\n",
              "       width=\"24px\">\n",
              "    <path d=\"M0 0h24v24H0V0z\" fill=\"none\"/>\n",
              "    <path d=\"M18.56 5.44l.94 2.06.94-2.06 2.06-.94-2.06-.94-.94-2.06-.94 2.06-2.06.94zm-11 1L8.5 8.5l.94-2.06 2.06-.94-2.06-.94L8.5 2.5l-.94 2.06-2.06.94zm10 10l.94 2.06.94-2.06 2.06-.94-2.06-.94-.94-2.06-.94 2.06-2.06.94z\"/><path d=\"M17.41 7.96l-1.37-1.37c-.4-.4-.92-.59-1.43-.59-.52 0-1.04.2-1.43.59L10.3 9.45l-7.72 7.72c-.78.78-.78 2.05 0 2.83L4 21.41c.39.39.9.59 1.41.59.51 0 1.02-.2 1.41-.59l7.78-7.78 2.81-2.81c.8-.78.8-2.07 0-2.86zM5.41 20L4 18.59l7.72-7.72 1.47 1.35L5.41 20z\"/>\n",
              "  </svg>\n",
              "      </button>\n",
              "      \n",
              "  <style>\n",
              "    .colab-df-container {\n",
              "      display:flex;\n",
              "      flex-wrap:wrap;\n",
              "      gap: 12px;\n",
              "    }\n",
              "\n",
              "    .colab-df-convert {\n",
              "      background-color: #E8F0FE;\n",
              "      border: none;\n",
              "      border-radius: 50%;\n",
              "      cursor: pointer;\n",
              "      display: none;\n",
              "      fill: #1967D2;\n",
              "      height: 32px;\n",
              "      padding: 0 0 0 0;\n",
              "      width: 32px;\n",
              "    }\n",
              "\n",
              "    .colab-df-convert:hover {\n",
              "      background-color: #E2EBFA;\n",
              "      box-shadow: 0px 1px 2px rgba(60, 64, 67, 0.3), 0px 1px 3px 1px rgba(60, 64, 67, 0.15);\n",
              "      fill: #174EA6;\n",
              "    }\n",
              "\n",
              "    [theme=dark] .colab-df-convert {\n",
              "      background-color: #3B4455;\n",
              "      fill: #D2E3FC;\n",
              "    }\n",
              "\n",
              "    [theme=dark] .colab-df-convert:hover {\n",
              "      background-color: #434B5C;\n",
              "      box-shadow: 0px 1px 3px 1px rgba(0, 0, 0, 0.15);\n",
              "      filter: drop-shadow(0px 1px 2px rgba(0, 0, 0, 0.3));\n",
              "      fill: #FFFFFF;\n",
              "    }\n",
              "  </style>\n",
              "\n",
              "      <script>\n",
              "        const buttonEl =\n",
              "          document.querySelector('#df-d3ff9e64-1964-4710-bc2a-bd7ed2f27b58 button.colab-df-convert');\n",
              "        buttonEl.style.display =\n",
              "          google.colab.kernel.accessAllowed ? 'block' : 'none';\n",
              "\n",
              "        async function convertToInteractive(key) {\n",
              "          const element = document.querySelector('#df-d3ff9e64-1964-4710-bc2a-bd7ed2f27b58');\n",
              "          const dataTable =\n",
              "            await google.colab.kernel.invokeFunction('convertToInteractive',\n",
              "                                                     [key], {});\n",
              "          if (!dataTable) return;\n",
              "\n",
              "          const docLinkHtml = 'Like what you see? Visit the ' +\n",
              "            '<a target=\"_blank\" href=https://colab.research.google.com/notebooks/data_table.ipynb>data table notebook</a>'\n",
              "            + ' to learn more about interactive tables.';\n",
              "          element.innerHTML = '';\n",
              "          dataTable['output_type'] = 'display_data';\n",
              "          await google.colab.output.renderOutput(dataTable, element);\n",
              "          const docLink = document.createElement('div');\n",
              "          docLink.innerHTML = docLinkHtml;\n",
              "          element.appendChild(docLink);\n",
              "        }\n",
              "      </script>\n",
              "    </div>\n",
              "  </div>\n",
              "  "
            ]
          },
          "metadata": {},
          "execution_count": 166
        }
      ]
    },
    {
      "cell_type": "code",
      "source": [
        "target = 'paid'\n",
        "#target = 'romantic'   # ===> fscore не больше 0.49\n",
        "\n",
        "data[target] = data[target].replace({'yes': 1, 'no': 0})\n",
        "\n",
        "data[target].value_counts(normalize=True)"
      ],
      "metadata": {
        "colab": {
          "base_uri": "https://localhost:8080/"
        },
        "id": "1uX2kG79uw4b",
        "outputId": "c18ce122-4bf2-4353-c329-b3bdba9734ce"
      },
      "execution_count": null,
      "outputs": [
        {
          "output_type": "execute_result",
          "data": {
            "text/plain": [
              "0    0.541772\n",
              "1    0.458228\n",
              "Name: paid, dtype: float64"
            ]
          },
          "metadata": {},
          "execution_count": 167
        }
      ]
    },
    {
      "cell_type": "code",
      "source": [
        "data.drop(target, axis=1).corrwith(data[target])*100"
      ],
      "metadata": {
        "colab": {
          "base_uri": "https://localhost:8080/"
        },
        "id": "Vg4FSNVKR9JX",
        "outputId": "b112b91d-1fa1-4b93-e7ab-1a3da7093ff8"
      },
      "execution_count": null,
      "outputs": [
        {
          "output_type": "execute_result",
          "data": {
            "text/plain": [
              "age           -3.593287\n",
              "Medu          15.970038\n",
              "Fedu           8.698142\n",
              "traveltime    -6.642024\n",
              "studytime     16.721988\n",
              "failures     -18.803897\n",
              "famrel         0.045965\n",
              "freetime      -6.425287\n",
              "goout          1.049327\n",
              "Dalc           6.246536\n",
              "Walc           6.045364\n",
              "health        -7.813240\n",
              "absences       0.743517\n",
              "G1             3.907932\n",
              "G2            10.519841\n",
              "G3            10.199624\n",
              "dtype: float64"
            ]
          },
          "metadata": {},
          "execution_count": 168
        }
      ]
    },
    {
      "cell_type": "code",
      "source": [
        "cat_features = data.select_dtypes('object').columns.to_list()\n",
        "\n",
        "num_features = data.drop(target, axis=1).select_dtypes(['int64', 'float64']).columns.to_list()\n",
        "\n",
        "print(cat_features)"
      ],
      "metadata": {
        "colab": {
          "base_uri": "https://localhost:8080/"
        },
        "id": "U401JFObmsLz",
        "outputId": "c9e65e4b-ba8c-4420-8315-14f233addc8e"
      },
      "execution_count": null,
      "outputs": [
        {
          "output_type": "stream",
          "name": "stdout",
          "text": [
            "['school', 'sex', 'address', 'famsize', 'Pstatus', 'Mjob', 'Fjob', 'reason', 'guardian', 'schoolsup', 'famsup', 'activities', 'nursery', 'higher', 'internet', 'romantic']\n"
          ]
        }
      ]
    },
    {
      "cell_type": "markdown",
      "source": [
        "### feature engineering"
      ],
      "metadata": {
        "id": "xriWoRu14KKB"
      }
    },
    {
      "cell_type": "code",
      "source": [
        "class ColumnSelector(BaseEstimator, TransformerMixin):\n",
        "    \n",
        "    def __init__(self, key):\n",
        "        self.key = key\n",
        "\n",
        "    def fit(self, X, y=None):\n",
        "        return self\n",
        "\n",
        "    def transform(self, X):\n",
        "        return X[self.key]\n",
        "    \n",
        "class NumberSelector(BaseEstimator, TransformerMixin):\n",
        "    \n",
        "    def __init__(self, key):\n",
        "        self.key = key\n",
        "\n",
        "    def fit(self, X, y=None):\n",
        "        return self\n",
        "\n",
        "    def transform(self, X):\n",
        "        return X[[self.key]]\n",
        "    \n",
        "class OHEEncoder(BaseEstimator, TransformerMixin):\n",
        "    def __init__(self, key):\n",
        "        self.key = key\n",
        "        self.columns = []\n",
        "\n",
        "    def fit(self, X, y=None):\n",
        "        self.columns = [col for col in pd.get_dummies(X, prefix=self.key).columns]\n",
        "        return self\n",
        "\n",
        "    def transform(self, X):\n",
        "        X = pd.get_dummies(X, prefix=self.key)\n",
        "        test_columns = [col for col in X.columns]\n",
        "        for col_ in test_columns:\n",
        "            if col_ not in self.columns:\n",
        "                X[col_] = 0\n",
        "        return X[self.columns]\n"
      ],
      "metadata": {
        "id": "3H3pbbZE4KTh"
      },
      "execution_count": null,
      "outputs": []
    },
    {
      "cell_type": "code",
      "source": [
        "cat_feats = Pipeline(steps=[\n",
        "                ('selector', ColumnSelector(key=cat_features)),\n",
        "                ('ohe', OHEEncoder(key=cat_features))\n",
        "            ])"
      ],
      "metadata": {
        "id": "OzuPlrtrmd7u"
      },
      "execution_count": null,
      "outputs": []
    },
    {
      "cell_type": "code",
      "source": [
        "num_feats = Pipeline(steps=[\n",
        "                ('selector', ColumnSelector(key=num_features)),\n",
        "                ('standard', StandardScaler())\n",
        "            ])"
      ],
      "metadata": {
        "id": "HLKJu6oNmd-a"
      },
      "execution_count": null,
      "outputs": []
    },
    {
      "cell_type": "code",
      "source": [
        "feats = FeatureUnion([('numeric_features', num_feats),\n",
        "                      ('cat_features', cat_feats)\n",
        "                      ])"
      ],
      "metadata": {
        "id": "QTlUklRYmeBE"
      },
      "execution_count": null,
      "outputs": []
    },
    {
      "cell_type": "markdown",
      "source": [
        "### Обучение классификатора"
      ],
      "metadata": {
        "id": "JFa95f5q4KY6"
      }
    },
    {
      "cell_type": "code",
      "source": [
        "y = data[target]\n",
        "X = data.drop(target, axis=1)\n",
        "\n",
        "X_train, X_test, y_train, y_test = train_test_split(X, y, test_size=0.3, random_state=197)"
      ],
      "metadata": {
        "id": "5lBv7gWDsS90"
      },
      "execution_count": null,
      "outputs": []
    },
    {
      "cell_type": "code",
      "source": [
        "pipeline = Pipeline([\n",
        "    ('features', feats),\n",
        "    ('classifier', RandomForestClassifier(random_state = 197)),\n",
        "])"
      ],
      "metadata": {
        "id": "1yr1LCrkmeD-"
      },
      "execution_count": null,
      "outputs": []
    },
    {
      "cell_type": "code",
      "source": [
        "pipeline.fit(X_train, y_train)"
      ],
      "metadata": {
        "colab": {
          "base_uri": "https://localhost:8080/"
        },
        "id": "EO8vehp14KdR",
        "outputId": "021e93e7-7420-465b-e67e-1a10f4abbd25"
      },
      "execution_count": null,
      "outputs": [
        {
          "output_type": "execute_result",
          "data": {
            "text/plain": [
              "Pipeline(steps=[('features',\n",
              "                 FeatureUnion(transformer_list=[('numeric_features',\n",
              "                                                 Pipeline(steps=[('selector',\n",
              "                                                                  ColumnSelector(key=['age',\n",
              "                                                                                      'Medu',\n",
              "                                                                                      'Fedu',\n",
              "                                                                                      'traveltime',\n",
              "                                                                                      'studytime',\n",
              "                                                                                      'failures',\n",
              "                                                                                      'famrel',\n",
              "                                                                                      'freetime',\n",
              "                                                                                      'goout',\n",
              "                                                                                      'Dalc',\n",
              "                                                                                      'Walc',\n",
              "                                                                                      'health',\n",
              "                                                                                      'absences',\n",
              "                                                                                      'G1',\n",
              "                                                                                      'G2',\n",
              "                                                                                      'G3'])),\n",
              "                                                                 ('standard',\n",
              "                                                                  StandardScaler())])),\n",
              "                                                ('cat_features',\n",
              "                                                 Pipeline(steps=[('selector',\n",
              "                                                                  ColumnSele...\n",
              "                                                                                      'Mjob',\n",
              "                                                                                      'Fjob',\n",
              "                                                                                      'reason',\n",
              "                                                                                      'guardian',\n",
              "                                                                                      'schoolsup',\n",
              "                                                                                      'famsup',\n",
              "                                                                                      'activities',\n",
              "                                                                                      'nursery',\n",
              "                                                                                      'higher',\n",
              "                                                                                      'internet',\n",
              "                                                                                      'romantic'])),\n",
              "                                                                 ('ohe',\n",
              "                                                                  OHEEncoder(key=['school',\n",
              "                                                                                  'sex',\n",
              "                                                                                  'address',\n",
              "                                                                                  'famsize',\n",
              "                                                                                  'Pstatus',\n",
              "                                                                                  'Mjob',\n",
              "                                                                                  'Fjob',\n",
              "                                                                                  'reason',\n",
              "                                                                                  'guardian',\n",
              "                                                                                  'schoolsup',\n",
              "                                                                                  'famsup',\n",
              "                                                                                  'activities',\n",
              "                                                                                  'nursery',\n",
              "                                                                                  'higher',\n",
              "                                                                                  'internet',\n",
              "                                                                                  'romantic']))]))])),\n",
              "                ('classifier', RandomForestClassifier(random_state=197))])"
            ]
          },
          "metadata": {},
          "execution_count": 176
        }
      ]
    },
    {
      "cell_type": "code",
      "source": [
        "# прогноз\n",
        "pipe_preds = pipeline.predict_proba(X_test)[:, 1]"
      ],
      "metadata": {
        "id": "tkFaWh68s25q"
      },
      "execution_count": null,
      "outputs": []
    },
    {
      "cell_type": "code",
      "source": [
        "pipe_preds[:10]"
      ],
      "metadata": {
        "colab": {
          "base_uri": "https://localhost:8080/"
        },
        "id": "1_EliMAXIpCw",
        "outputId": "9e9ab913-0114-4d47-88da-53b08ed24b49"
      },
      "execution_count": null,
      "outputs": [
        {
          "output_type": "execute_result",
          "data": {
            "text/plain": [
              "array([0.78, 0.53, 0.23, 0.57, 0.29, 0.1 , 0.28, 0.53, 0.67, 0.65])"
            ]
          },
          "metadata": {},
          "execution_count": 178
        }
      ]
    },
    {
      "cell_type": "code",
      "source": [
        "def show_metrics(y_test, preds):\n",
        "\n",
        "  precision, recall, thresholds = precision_recall_curve(y_test, preds)\n",
        "  fscore = (2*precision * recall) / (precision + recall)\n",
        "  ix = np.argmax(fscore)\n",
        "    \n",
        "  print('Best Threshold=%f, F-Score=%.3f, Precision=%.3f, Recall=%.3f' % (thresholds[ix], fscore[ix],\n",
        "                                                                          precision[ix], recall[ix]))\n",
        "  \n",
        "\n",
        "print(show_metrics(y_test, pipe_preds))"
      ],
      "metadata": {
        "colab": {
          "base_uri": "https://localhost:8080/"
        },
        "id": "TT1dilOrs28v",
        "outputId": "591d39dc-8a86-4036-e742-bcf1b14c26ee"
      },
      "execution_count": null,
      "outputs": [
        {
          "output_type": "stream",
          "name": "stdout",
          "text": [
            "Best Threshold=0.420000, F-Score=0.767, Precision=0.708, Recall=0.836\n",
            "None\n"
          ]
        }
      ]
    },
    {
      "cell_type": "markdown",
      "source": [
        "Посмотрим, как PU-Learning повлияет на результаты."
      ],
      "metadata": {
        "id": "16SgB3N-msG2"
      }
    },
    {
      "cell_type": "markdown",
      "source": [
        "### Random Negative Sampling"
      ],
      "metadata": {
        "id": "IEEAuZYk4bob"
      }
    },
    {
      "cell_type": "code",
      "source": [
        "data[target].value_counts(normalize=True)"
      ],
      "metadata": {
        "id": "IsDFiOWl4bvQ",
        "colab": {
          "base_uri": "https://localhost:8080/"
        },
        "outputId": "aa4399e1-9347-4aa5-f151-c0796791f443"
      },
      "execution_count": null,
      "outputs": [
        {
          "output_type": "execute_result",
          "data": {
            "text/plain": [
              "0    0.541772\n",
              "1    0.458228\n",
              "Name: paid, dtype: float64"
            ]
          },
          "metadata": {},
          "execution_count": 180
        }
      ]
    },
    {
      "cell_type": "code",
      "source": [
        "def RNS(data, POS_FRAC=0.5):\n",
        "\n",
        "  print(f'When using {POS_FRAC*100}% of positive samples')\n",
        "\n",
        "  mod_data = data.copy()\n",
        "\n",
        "  # индексы положительных объектов\n",
        "  pos_ind = np.where(mod_data.loc[:, target].values == 1)[0]\n",
        "\n",
        "  np.random.shuffle(pos_ind)\n",
        "\n",
        "  pos_sample_len = int(np.ceil(POS_FRAC * len(pos_ind)))\n",
        "\n",
        "  #print(f'Using only {pos_sample_len}/{len(pos_ind)} as positives and unlabeling the rest')\n",
        "  pos_sample = pos_ind[:pos_sample_len]\n",
        "\n",
        "  # теперь разделение mod_data\n",
        "\n",
        "  mod_data['testing_target'] = -1  # U (unlabeled)\n",
        "\n",
        "  mod_data.loc[pos_sample, 'testing_target'] = 1 # P (positive)\n",
        "\n",
        "  #print('target variable:\\n', mod_data.loc[:, 'testing_target'].value_counts())\n",
        "\n",
        "  x_data = mod_data.drop([target, 'testing_target'], axis=1).values\n",
        "\n",
        "  y_labeled = mod_data.loc[:, 'testing_target'].values\n",
        "\n",
        "  y_positive = mod_data.loc[:, target].values\n",
        "\n",
        "  positive_samples = len(mod_data[mod_data['testing_target']==1])\n",
        "  #print(f'Positive samples: {positive_samples}')\n",
        "\n",
        "  mod_data = mod_data.sample(frac=1)\n",
        "\n",
        "  # размер выборок должен совпадать\n",
        "  neg_sample = mod_data[mod_data['testing_target']==-1][:positive_samples]\n",
        "  sample_test = mod_data[mod_data['testing_target']==-1][positive_samples:]\n",
        "  pos_sample = mod_data[mod_data['testing_target']==1]\n",
        "\n",
        "  #print(neg_sample.shape, pos_sample.shape)\n",
        "\n",
        "  sample_train = pd.concat([neg_sample, pos_sample]).sample(frac=1)\n",
        "\n",
        "  pipeline.fit(sample_train.drop([target, 'testing_target'], axis=1), sample_train.loc[:, target])\n",
        "\n",
        "  modified_preds = pipeline.predict(sample_test.drop([target, 'testing_target'], axis=1))\n",
        "\n",
        "  show_metrics(sample_test.loc[:, target].values, modified_preds)"
      ],
      "metadata": {
        "id": "Mv5y7UR-OFuT"
      },
      "execution_count": null,
      "outputs": []
    },
    {
      "cell_type": "code",
      "source": [
        "for frac in np.linspace(0.1,0.9,9):\n",
        "  RNS(data, POS_FRAC=round(frac, 1))\n",
        "  print('\\n')"
      ],
      "metadata": {
        "colab": {
          "base_uri": "https://localhost:8080/"
        },
        "id": "inM_cuYAi5FQ",
        "outputId": "61f50949-e11f-4645-ecfb-8634ffa9c5b4"
      },
      "execution_count": null,
      "outputs": [
        {
          "output_type": "stream",
          "name": "stdout",
          "text": [
            "When using 10.0% of positive samples\n",
            "Best Threshold=1.000000, F-Score=0.626, Precision=0.488, Recall=0.873\n",
            "\n",
            "\n",
            "When using 20.0% of positive samples\n",
            "Best Threshold=0.000000, F-Score=0.564, Precision=0.393, Recall=1.000\n",
            "\n",
            "\n",
            "When using 30.0% of positive samples\n",
            "Best Threshold=1.000000, F-Score=0.559, Precision=0.428, Recall=0.806\n",
            "\n",
            "\n",
            "When using 40.0% of positive samples\n",
            "Best Threshold=1.000000, F-Score=0.576, Precision=0.419, Recall=0.920\n",
            "\n",
            "\n",
            "When using 50.0% of positive samples\n",
            "Best Threshold=1.000000, F-Score=0.557, Precision=0.427, Recall=0.800\n",
            "\n",
            "\n",
            "When using 60.0% of positive samples\n",
            "Best Threshold=1.000000, F-Score=0.545, Precision=0.408, Recall=0.824\n",
            "\n",
            "\n",
            "When using 70.0% of positive samples\n",
            "Best Threshold=1.000000, F-Score=0.444, Precision=0.295, Recall=0.897\n",
            "\n",
            "\n",
            "When using 80.0% of positive samples\n",
            "Best Threshold=1.000000, F-Score=0.423, Precision=0.278, Recall=0.882\n",
            "\n",
            "\n",
            "When using 90.0% of positive samples\n",
            "Best Threshold=1.000000, F-Score=0.312, Precision=0.200, Recall=0.714\n",
            "\n",
            "\n"
          ]
        }
      ]
    },
    {
      "cell_type": "code",
      "source": [
        "RNS(data, POS_FRAC=0.05)"
      ],
      "metadata": {
        "colab": {
          "base_uri": "https://localhost:8080/"
        },
        "id": "MkmS3DhklSxy",
        "outputId": "a13f2f0d-5d72-4b7b-cac5-aae51d4c70fa"
      },
      "execution_count": null,
      "outputs": [
        {
          "output_type": "stream",
          "name": "stdout",
          "text": [
            "When using 5.0% of positive samples\n",
            "Best Threshold=1.000000, F-Score=0.661, Precision=0.505, Recall=0.958\n"
          ]
        }
      ]
    },
    {
      "cell_type": "markdown",
      "source": [
        "Как видно, если поместить часть положительных объектов в выборку Unlabeled, качество теряется. Точность модели ниже, а recall остается высокой. Это был только пример.\n",
        "\n",
        "На деле, PU-Learning пригождается в кейсах, где большая часть объектов неразмеченна, но в этой большей выборке могут быть потенциально объекты таргетного класса (к примеру, в конверсии на сайте, где клиент, осуществляющий действие, это таргет)."
      ],
      "metadata": {
        "id": "UY2lM6HYirHn"
      }
    }
  ]
}